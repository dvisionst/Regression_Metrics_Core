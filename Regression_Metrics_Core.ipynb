{
  "nbformat": 4,
  "nbformat_minor": 0,
  "metadata": {
    "colab": {
      "name": "Regression_Metrics_Core.ipynb",
      "provenance": [],
      "collapsed_sections": [],
      "authorship_tag": "ABX9TyNkoYVNP0r4p3x8+Y4eq7eD",
      "include_colab_link": true
    },
    "kernelspec": {
      "name": "python3",
      "display_name": "Python 3"
    },
    "language_info": {
      "name": "python"
    }
  },
  "cells": [
    {
      "cell_type": "markdown",
      "metadata": {
        "id": "view-in-github",
        "colab_type": "text"
      },
      "source": [
        "<a href=\"https://colab.research.google.com/github/dvisionst/Regression_Metrics_Core/blob/main/Regression_Metrics_Core.ipynb\" target=\"_parent\"><img src=\"https://colab.research.google.com/assets/colab-badge.svg\" alt=\"Open In Colab\"/></a>"
      ]
    },
    {
      "cell_type": "markdown",
      "source": [
        "# Regression Metrics Core\n",
        "\n",
        "- Jose Flores\n",
        "- 28 July 2022"
      ],
      "metadata": {
        "id": "oIleUweZmyQl"
      }
    },
    {
      "cell_type": "code",
      "execution_count": 1,
      "metadata": {
        "id": "LLYExU3LmftE"
      },
      "outputs": [],
      "source": [
        "# Import mandatory libraries\n",
        "import pandas as pd\n",
        "import numpy as np\n",
        "import matplotlib.pyplot as plt\n",
        "import seaborn as sns\n",
        "from sklearn.model_selection import train_test_split\n",
        "from sklearn.preprocessing import StandardScaler\n",
        "from sklearn.pipeline import make_pipeline\n",
        "from sklearn.metrics import mean_squared_error, mean_absolute_error, r2_score\n",
        "from sklearn.linear_model import LinearRegression\n"
      ]
    },
    {
      "cell_type": "code",
      "source": [
        "# Creating Dataframe from the Housing Data\n",
        "\n",
        "df = pd.read_csv('/content/Boston_Housing_from_Sklearn.csv')\n",
        "df.head()"
      ],
      "metadata": {
        "colab": {
          "base_uri": "https://localhost:8080/",
          "height": 206
        },
        "id": "hTsA2nI0o35k",
        "outputId": "ce826b9e-db9d-4aeb-bb8c-403a96f3abdf"
      },
      "execution_count": 2,
      "outputs": [
        {
          "output_type": "execute_result",
          "data": {
            "text/plain": [
              "      CRIM    NOX     RM   AGE  PTRATIO  LSTAT  PRICE\n",
              "0  0.00632  0.538  6.575  65.2     15.3   4.98   24.0\n",
              "1  0.02731  0.469  6.421  78.9     17.8   9.14   21.6\n",
              "2  0.02729  0.469  7.185  61.1     17.8   4.03   34.7\n",
              "3  0.03237  0.458  6.998  45.8     18.7   2.94   33.4\n",
              "4  0.06905  0.458  7.147  54.2     18.7   5.33   36.2"
            ],
            "text/html": [
              "\n",
              "  <div id=\"df-512e7f2f-f9d8-451f-be9c-d97d86f540b6\">\n",
              "    <div class=\"colab-df-container\">\n",
              "      <div>\n",
              "<style scoped>\n",
              "    .dataframe tbody tr th:only-of-type {\n",
              "        vertical-align: middle;\n",
              "    }\n",
              "\n",
              "    .dataframe tbody tr th {\n",
              "        vertical-align: top;\n",
              "    }\n",
              "\n",
              "    .dataframe thead th {\n",
              "        text-align: right;\n",
              "    }\n",
              "</style>\n",
              "<table border=\"1\" class=\"dataframe\">\n",
              "  <thead>\n",
              "    <tr style=\"text-align: right;\">\n",
              "      <th></th>\n",
              "      <th>CRIM</th>\n",
              "      <th>NOX</th>\n",
              "      <th>RM</th>\n",
              "      <th>AGE</th>\n",
              "      <th>PTRATIO</th>\n",
              "      <th>LSTAT</th>\n",
              "      <th>PRICE</th>\n",
              "    </tr>\n",
              "  </thead>\n",
              "  <tbody>\n",
              "    <tr>\n",
              "      <th>0</th>\n",
              "      <td>0.00632</td>\n",
              "      <td>0.538</td>\n",
              "      <td>6.575</td>\n",
              "      <td>65.2</td>\n",
              "      <td>15.3</td>\n",
              "      <td>4.98</td>\n",
              "      <td>24.0</td>\n",
              "    </tr>\n",
              "    <tr>\n",
              "      <th>1</th>\n",
              "      <td>0.02731</td>\n",
              "      <td>0.469</td>\n",
              "      <td>6.421</td>\n",
              "      <td>78.9</td>\n",
              "      <td>17.8</td>\n",
              "      <td>9.14</td>\n",
              "      <td>21.6</td>\n",
              "    </tr>\n",
              "    <tr>\n",
              "      <th>2</th>\n",
              "      <td>0.02729</td>\n",
              "      <td>0.469</td>\n",
              "      <td>7.185</td>\n",
              "      <td>61.1</td>\n",
              "      <td>17.8</td>\n",
              "      <td>4.03</td>\n",
              "      <td>34.7</td>\n",
              "    </tr>\n",
              "    <tr>\n",
              "      <th>3</th>\n",
              "      <td>0.03237</td>\n",
              "      <td>0.458</td>\n",
              "      <td>6.998</td>\n",
              "      <td>45.8</td>\n",
              "      <td>18.7</td>\n",
              "      <td>2.94</td>\n",
              "      <td>33.4</td>\n",
              "    </tr>\n",
              "    <tr>\n",
              "      <th>4</th>\n",
              "      <td>0.06905</td>\n",
              "      <td>0.458</td>\n",
              "      <td>7.147</td>\n",
              "      <td>54.2</td>\n",
              "      <td>18.7</td>\n",
              "      <td>5.33</td>\n",
              "      <td>36.2</td>\n",
              "    </tr>\n",
              "  </tbody>\n",
              "</table>\n",
              "</div>\n",
              "      <button class=\"colab-df-convert\" onclick=\"convertToInteractive('df-512e7f2f-f9d8-451f-be9c-d97d86f540b6')\"\n",
              "              title=\"Convert this dataframe to an interactive table.\"\n",
              "              style=\"display:none;\">\n",
              "        \n",
              "  <svg xmlns=\"http://www.w3.org/2000/svg\" height=\"24px\"viewBox=\"0 0 24 24\"\n",
              "       width=\"24px\">\n",
              "    <path d=\"M0 0h24v24H0V0z\" fill=\"none\"/>\n",
              "    <path d=\"M18.56 5.44l.94 2.06.94-2.06 2.06-.94-2.06-.94-.94-2.06-.94 2.06-2.06.94zm-11 1L8.5 8.5l.94-2.06 2.06-.94-2.06-.94L8.5 2.5l-.94 2.06-2.06.94zm10 10l.94 2.06.94-2.06 2.06-.94-2.06-.94-.94-2.06-.94 2.06-2.06.94z\"/><path d=\"M17.41 7.96l-1.37-1.37c-.4-.4-.92-.59-1.43-.59-.52 0-1.04.2-1.43.59L10.3 9.45l-7.72 7.72c-.78.78-.78 2.05 0 2.83L4 21.41c.39.39.9.59 1.41.59.51 0 1.02-.2 1.41-.59l7.78-7.78 2.81-2.81c.8-.78.8-2.07 0-2.86zM5.41 20L4 18.59l7.72-7.72 1.47 1.35L5.41 20z\"/>\n",
              "  </svg>\n",
              "      </button>\n",
              "      \n",
              "  <style>\n",
              "    .colab-df-container {\n",
              "      display:flex;\n",
              "      flex-wrap:wrap;\n",
              "      gap: 12px;\n",
              "    }\n",
              "\n",
              "    .colab-df-convert {\n",
              "      background-color: #E8F0FE;\n",
              "      border: none;\n",
              "      border-radius: 50%;\n",
              "      cursor: pointer;\n",
              "      display: none;\n",
              "      fill: #1967D2;\n",
              "      height: 32px;\n",
              "      padding: 0 0 0 0;\n",
              "      width: 32px;\n",
              "    }\n",
              "\n",
              "    .colab-df-convert:hover {\n",
              "      background-color: #E2EBFA;\n",
              "      box-shadow: 0px 1px 2px rgba(60, 64, 67, 0.3), 0px 1px 3px 1px rgba(60, 64, 67, 0.15);\n",
              "      fill: #174EA6;\n",
              "    }\n",
              "\n",
              "    [theme=dark] .colab-df-convert {\n",
              "      background-color: #3B4455;\n",
              "      fill: #D2E3FC;\n",
              "    }\n",
              "\n",
              "    [theme=dark] .colab-df-convert:hover {\n",
              "      background-color: #434B5C;\n",
              "      box-shadow: 0px 1px 3px 1px rgba(0, 0, 0, 0.15);\n",
              "      filter: drop-shadow(0px 1px 2px rgba(0, 0, 0, 0.3));\n",
              "      fill: #FFFFFF;\n",
              "    }\n",
              "  </style>\n",
              "\n",
              "      <script>\n",
              "        const buttonEl =\n",
              "          document.querySelector('#df-512e7f2f-f9d8-451f-be9c-d97d86f540b6 button.colab-df-convert');\n",
              "        buttonEl.style.display =\n",
              "          google.colab.kernel.accessAllowed ? 'block' : 'none';\n",
              "\n",
              "        async function convertToInteractive(key) {\n",
              "          const element = document.querySelector('#df-512e7f2f-f9d8-451f-be9c-d97d86f540b6');\n",
              "          const dataTable =\n",
              "            await google.colab.kernel.invokeFunction('convertToInteractive',\n",
              "                                                     [key], {});\n",
              "          if (!dataTable) return;\n",
              "\n",
              "          const docLinkHtml = 'Like what you see? Visit the ' +\n",
              "            '<a target=\"_blank\" href=https://colab.research.google.com/notebooks/data_table.ipynb>data table notebook</a>'\n",
              "            + ' to learn more about interactive tables.';\n",
              "          element.innerHTML = '';\n",
              "          dataTable['output_type'] = 'display_data';\n",
              "          await google.colab.output.renderOutput(dataTable, element);\n",
              "          const docLink = document.createElement('div');\n",
              "          docLink.innerHTML = docLinkHtml;\n",
              "          element.appendChild(docLink);\n",
              "        }\n",
              "      </script>\n",
              "    </div>\n",
              "  </div>\n",
              "  "
            ]
          },
          "metadata": {},
          "execution_count": 2
        }
      ]
    },
    {
      "cell_type": "markdown",
      "source": [
        "## For now, you do not need to do any cleaning to this data set. You can use it \"as is.\"\n",
        "\n",
        "An important exploration step is to determine if there are any moderate or strong correlations in your variables.\n",
        "\n",
        "1) Make a heatmap of the correlations.  Identify any features that have a correlation coefficient of magnitude 0.5 (could be + or -) or greater with price.   We will limit our analysis to these three features.\n",
        "\n"
      ],
      "metadata": {
        "id": "8mPMT-klpJ4X"
      }
    },
    {
      "cell_type": "code",
      "source": [
        "# creating a heat map for the data set and exploring correlation with abs(coefficiants) > 0.5\n",
        "\n",
        "correlations = df.corr();\n",
        "sns.heatmap(correlations, cmap='Purples' , annot=True);"
      ],
      "metadata": {
        "colab": {
          "base_uri": "https://localhost:8080/",
          "height": 269
        },
        "id": "ST2lqEzapPFx",
        "outputId": "5296c441-e3c9-480f-8a10-b887f49aebda"
      },
      "execution_count": 3,
      "outputs": [
        {
          "output_type": "display_data",
          "data": {
            "text/plain": [
              "<Figure size 432x288 with 2 Axes>"
            ],
            "image/png": "[encoded data removed]"
          },
          "metadata": {
            "needs_background": "light"
          }
        }
      ]
    },
    {
      "cell_type": "markdown",
      "source": [
        "*As can be seen in the heatmap above there are six different correlations that have a magnitude over 0.5 these are:*\n",
        "\n",
        "1. Price and Lstat 0.74\n",
        "2. Age and Nox at 0.73\n",
        "3. Lstat and RM 0.61\n",
        "4. Lstat and Age 0.60\n",
        "5. Lstat and Nox 0.59\n",
        "6. Price and Ptratio 0.51\n",
        "\n",
        "\n"
      ],
      "metadata": {
        "id": "ynAm58TfsfB1"
      }
    },
    {
      "cell_type": "markdown",
      "source": [
        "## 2) Select columns for your feature matrix (X) and select PRICE for your target vector (y).\n",
        "\n"
      ],
      "metadata": {
        "id": "_C5JfERyo0GB"
      }
    },
    {
      "cell_type": "code",
      "source": [
        "# Setting up my features matrix and my target vector\n",
        "\n",
        "y = df['PRICE']\n",
        "\n",
        "X = df.drop(columns='PRICE')\n",
        "X.info()\n",
        "# X.info() shows no missing values and that the features matrix \n",
        "# is all numerical data"
      ],
      "metadata": {
        "colab": {
          "base_uri": "https://localhost:8080/"
        },
        "id": "jNFICa0Utj2g",
        "outputId": "b22cab3d-4c58-444d-8dee-e1f61b80c51a"
      },
      "execution_count": 4,
      "outputs": [
        {
          "output_type": "stream",
          "name": "stdout",
          "text": [
            "<class 'pandas.core.frame.DataFrame'>\n",
            "RangeIndex: 506 entries, 0 to 505\n",
            "Data columns (total 6 columns):\n",
            " #   Column   Non-Null Count  Dtype  \n",
            "---  ------   --------------  -----  \n",
            " 0   CRIM     506 non-null    float64\n",
            " 1   NOX      506 non-null    float64\n",
            " 2   RM       506 non-null    float64\n",
            " 3   AGE      506 non-null    float64\n",
            " 4   PTRATIO  506 non-null    float64\n",
            " 5   LSTAT    506 non-null    float64\n",
            "dtypes: float64(6)\n",
            "memory usage: 23.8 KB\n"
          ]
        }
      ]
    },
    {
      "cell_type": "markdown",
      "source": [
        "## 3) Split your data into train and test groups. Please use random number 42 for consistency!\n"
      ],
      "metadata": {
        "id": "pgJbijxypW70"
      }
    },
    {
      "cell_type": "code",
      "source": [
        "# Splitting data into two sets, training and testing:\n",
        "\n",
        "X_train, X_test, y_train, y_test = train_test_split(X, y, random_state=42)"
      ],
      "metadata": {
        "id": "k7p36ycouG8a"
      },
      "execution_count": 5,
      "outputs": []
    },
    {
      "cell_type": "markdown",
      "source": [
        "## 4) Instantiate your model and fit it on the training set.\n",
        "\n"
      ],
      "metadata": {
        "id": "VhqV6wETpZVv"
      }
    },
    {
      "cell_type": "code",
      "source": [
        "# Instantiating a scaler and model\n",
        "\n",
        "scaler = StandardScaler()\n",
        "lin_reg = LinearRegression()\n",
        "\n",
        "# Creating a pipeline for the data\n",
        "\n",
        "lin_reg_pipe = make_pipeline(scaler, lin_reg)\n",
        "\n",
        "# Fitting to the training data\n",
        "\n",
        "lin_reg_pipe.fit(X_train, y_train)"
      ],
      "metadata": {
        "colab": {
          "base_uri": "https://localhost:8080/"
        },
        "id": "bD3Dd9kCuszJ",
        "outputId": "f3f55ded-07ee-4240-9dd1-1cd76373b757"
      },
      "execution_count": 6,
      "outputs": [
        {
          "output_type": "execute_result",
          "data": {
            "text/plain": [
              "Pipeline(steps=[('standardscaler', StandardScaler()),\n",
              "                ('linearregression', LinearRegression())])"
            ]
          },
          "metadata": {},
          "execution_count": 6
        }
      ]
    },
    {
      "cell_type": "code",
      "source": [
        "# Creating Model Predictions\n",
        "\n",
        "train_prediction = lin_reg_pipe.predict(X_train)\n",
        "test_prediciton = lin_reg_pipe.predict(X_test)"
      ],
      "metadata": {
        "id": "Z7uM3c77xId2"
      },
      "execution_count": 7,
      "outputs": []
    },
    {
      "cell_type": "markdown",
      "source": [
        "## 5) Evaluate your model performance using R^2 on the training set and on the test set.  Is there a difference between model performance on the training data vs the test data?\n",
        "\n",
        " "
      ],
      "metadata": {
        "id": "HoIkKC1UpcO1"
      }
    },
    {
      "cell_type": "code",
      "source": [
        "# Using sklearn to evaulate the model performance using R^2\n",
        "\n",
        "train_R2 = round(r2_score(y_train, train_prediction) , 3)\n",
        "test_R2 = round(r2_score(y_test, test_prediciton), 3)\n",
        "\n",
        "print(f\"The R^2 value for the Training Model is: {train_R2}\")\n",
        "print(f\"The R^2 value for the Testing Model is: {test_R2}\")"
      ],
      "metadata": {
        "colab": {
          "base_uri": "https://localhost:8080/"
        },
        "id": "_yu1aCHZxqGn",
        "outputId": "3cc927b7-a48d-4301-89c9-4f971e81fb95"
      },
      "execution_count": 8,
      "outputs": [
        {
          "output_type": "stream",
          "name": "stdout",
          "text": [
            "The R^2 value for the Training Model is: 0.695\n",
            "The R^2 value for the Testing Model is: 0.636\n"
          ]
        }
      ]
    },
    {
      "cell_type": "markdown",
      "source": [
        "There is about approximately a 6% difference between the training model and the testing model R^2 scores. Which is to say that the model can account for 64% of the variation in the y_test using the features in X_test. "
      ],
      "metadata": {
        "id": "ZuhNWhPJz3m_"
      }
    },
    {
      "cell_type": "markdown",
      "source": [
        "## 6) Evaluate your model using mean absolute error (MAE).\n",
        "\n"
      ],
      "metadata": {
        "id": "tTPmaVtwpeWB"
      }
    },
    {
      "cell_type": "code",
      "source": [
        "# Using sklearn module to apply MAE metric to model \n",
        "\n",
        "train_MAE = round(mean_absolute_error(y_train, train_prediction), 2)\n",
        "test_MAE = round(mean_absolute_error(y_test, test_prediciton), 2)\n",
        "print(f\"The MAE results for the training set is: {train_MAE}\")\n",
        "print(f\"The MAE results for the testing set is: {test_MAE}\")\n"
      ],
      "metadata": {
        "colab": {
          "base_uri": "https://localhost:8080/"
        },
        "id": "8T8v0ZFkz0-Y",
        "outputId": "6889ddef-c2cd-4efb-f7d8-2effcb79dae9"
      },
      "execution_count": 9,
      "outputs": [
        {
          "output_type": "stream",
          "name": "stdout",
          "text": [
            "The MAE results for the training set is: 3.67\n",
            "The MAE results for the testing set is: 3.34\n"
          ]
        }
      ]
    },
    {
      "cell_type": "markdown",
      "source": [
        "As can be seen in the results the MAE values are within 0.33 of each other. \n",
        "T"
      ],
      "metadata": {
        "id": "W-I3mtND2pM4"
      }
    },
    {
      "cell_type": "markdown",
      "source": [
        "## 7) Evaluate your model using mean squared error (MSE).  \n",
        "\n"
      ],
      "metadata": {
        "id": "PgMA134JpgdK"
      }
    },
    {
      "cell_type": "code",
      "source": [
        "# Using sklearn module to apply MSE metric to model \n",
        "\n",
        "train_MSE = round(mean_squared_error(y_train, train_prediction), 2)\n",
        "test_MSE = round(mean_squared_error(y_test, test_prediciton), 2)\n",
        "\n",
        "print(f\"The MSE value for the training model is {train_MSE}\")\n",
        "print(f\"The MSE value for the testing model is {test_MSE}\")"
      ],
      "metadata": {
        "colab": {
          "base_uri": "https://localhost:8080/"
        },
        "id": "A5j3l0TM3qBJ",
        "outputId": "7b123c11-2b46-4f07-9ce0-6a72d3b122a3"
      },
      "execution_count": 10,
      "outputs": [
        {
          "output_type": "stream",
          "name": "stdout",
          "text": [
            "The MSE value for the training model is 27.01\n",
            "The MSE value for the testing model is 25.52\n"
          ]
        }
      ]
    },
    {
      "cell_type": "markdown",
      "source": [
        "## 8) Evaluate your model performance using RMSE on the training set and on the test set. This metric is useful because the units will be in the same units as your target vector. In this case 1,000 of dollars. "
      ],
      "metadata": {
        "id": "1a38SzGQpivG"
      }
    },
    {
      "cell_type": "code",
      "source": [
        "# Using sklearn module to apply MSE metric to model \n",
        "\n",
        "train_RMSE = round(np.sqrt(train_MSE), 3)\n",
        "test_RMSE = round(np.sqrt(test_MSE), 3)\n",
        "\n",
        "print(f\"Model for training RMSE:  {train_RMSE}\")\n",
        "print(f\"Model for testing RMSE: {test_RMSE}\")\n",
        "\n",
        "\n"
      ],
      "metadata": {
        "id": "GtTdXZ_P4uUQ",
        "colab": {
          "base_uri": "https://localhost:8080/"
        },
        "outputId": "d30a87af-3726-44ac-f22f-1e9f00b6c924"
      },
      "execution_count": 13,
      "outputs": [
        {
          "output_type": "stream",
          "name": "stdout",
          "text": [
            "Model for training RMSE:  5.197\n",
            "Model for testing RMSE: 5.052\n"
          ]
        }
      ]
    }
  ]
}